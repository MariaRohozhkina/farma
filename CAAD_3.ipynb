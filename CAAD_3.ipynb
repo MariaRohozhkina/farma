{
 "cells": [
  {
   "cell_type": "code",
   "execution_count": 18,
   "metadata": {},
   "outputs": [],
   "source": [
    "import pandas as pd\n",
    "from statistics import mean, mode, median\n",
    "import numpy as np\n",
    "import seaborn as sns"
   ]
  },
  {
   "cell_type": "code",
   "execution_count": 19,
   "metadata": {},
   "outputs": [],
   "source": [
    "data = pd.read_csv('Data.csv')"
   ]
  },
  {
   "cell_type": "code",
   "execution_count": 20,
   "metadata": {},
   "outputs": [
    {
     "data": {
      "text/plain": [
       "standard_type\n",
       "Activity         1\n",
       "IC50          2190\n",
       "INH             29\n",
       "Inhibition      29\n",
       "Kd               4\n",
       "Ki              43\n",
       "dtype: int64"
      ]
     },
     "execution_count": 20,
     "metadata": {},
     "output_type": "execute_result"
    }
   ],
   "source": [
    "data.pivot_table(index = ['standard_type'], aggfunc='size')"
   ]
  },
  {
   "cell_type": "code",
   "execution_count": 21,
   "metadata": {},
   "outputs": [],
   "source": [
    "data = data.query(\"standard_type == 'IC50'\")"
   ]
  },
  {
   "cell_type": "code",
   "execution_count": 22,
   "metadata": {},
   "outputs": [
    {
     "data": {
      "text/html": [
       "<div>\n",
       "<style scoped>\n",
       "    .dataframe tbody tr th:only-of-type {\n",
       "        vertical-align: middle;\n",
       "    }\n",
       "\n",
       "    .dataframe tbody tr th {\n",
       "        vertical-align: top;\n",
       "    }\n",
       "\n",
       "    .dataframe thead th {\n",
       "        text-align: right;\n",
       "    }\n",
       "</style>\n",
       "<table border=\"1\" class=\"dataframe\">\n",
       "  <thead>\n",
       "    <tr style=\"text-align: right;\">\n",
       "      <th></th>\n",
       "      <th>molecule_chembl_id</th>\n",
       "      <th>Smiles</th>\n",
       "      <th>standard_type</th>\n",
       "      <th>standard_value</th>\n",
       "      <th>standard_units</th>\n",
       "      <th>assay_type</th>\n",
       "      <th>assay_organism</th>\n",
       "      <th>target_organism</th>\n",
       "    </tr>\n",
       "  </thead>\n",
       "  <tbody>\n",
       "    <tr>\n",
       "      <th>0</th>\n",
       "      <td>CHEMBL50412</td>\n",
       "      <td>CC(C)C[C@H](NC(=O)[C@H](Cc1ccccc1)NC(=O)OC(C)(...</td>\n",
       "      <td>IC50</td>\n",
       "      <td>77.0</td>\n",
       "      <td>nM</td>\n",
       "      <td>B</td>\n",
       "      <td>Homo sapiens</td>\n",
       "      <td>Homo sapiens</td>\n",
       "    </tr>\n",
       "    <tr>\n",
       "      <th>1</th>\n",
       "      <td>CHEMBL537666</td>\n",
       "      <td>COCCCOc1cc(C[C@@H](C[C@H](N)[C@@H](O)C[C@@H](C...</td>\n",
       "      <td>IC50</td>\n",
       "      <td>7.0</td>\n",
       "      <td>nM</td>\n",
       "      <td>B</td>\n",
       "      <td>Homo sapiens</td>\n",
       "      <td>Homo sapiens</td>\n",
       "    </tr>\n",
       "    <tr>\n",
       "      <th>2</th>\n",
       "      <td>CHEMBL538092</td>\n",
       "      <td>COCCCOc1cc(C[C@@H](C[C@H](N)[C@@H](O)C[C@@H](C...</td>\n",
       "      <td>IC50</td>\n",
       "      <td>10.0</td>\n",
       "      <td>nM</td>\n",
       "      <td>B</td>\n",
       "      <td>Homo sapiens</td>\n",
       "      <td>Homo sapiens</td>\n",
       "    </tr>\n",
       "    <tr>\n",
       "      <th>3</th>\n",
       "      <td>CHEMBL536982</td>\n",
       "      <td>COCCCOc1cc(C[C@@H](C[C@H](N)[C@@H](O)C[C@@H](C...</td>\n",
       "      <td>IC50</td>\n",
       "      <td>2.0</td>\n",
       "      <td>nM</td>\n",
       "      <td>B</td>\n",
       "      <td>Homo sapiens</td>\n",
       "      <td>Homo sapiens</td>\n",
       "    </tr>\n",
       "    <tr>\n",
       "      <th>4</th>\n",
       "      <td>CHEMBL536748</td>\n",
       "      <td>COCCCOc1cc(C[C@@H](C[C@H](N)[C@@H](O)C[C@@H](C...</td>\n",
       "      <td>IC50</td>\n",
       "      <td>2.0</td>\n",
       "      <td>nM</td>\n",
       "      <td>B</td>\n",
       "      <td>Homo sapiens</td>\n",
       "      <td>Homo sapiens</td>\n",
       "    </tr>\n",
       "  </tbody>\n",
       "</table>\n",
       "</div>"
      ],
      "text/plain": [
       "  molecule_chembl_id                                             Smiles  \\\n",
       "0        CHEMBL50412  CC(C)C[C@H](NC(=O)[C@H](Cc1ccccc1)NC(=O)OC(C)(...   \n",
       "1       CHEMBL537666  COCCCOc1cc(C[C@@H](C[C@H](N)[C@@H](O)C[C@@H](C...   \n",
       "2       CHEMBL538092  COCCCOc1cc(C[C@@H](C[C@H](N)[C@@H](O)C[C@@H](C...   \n",
       "3       CHEMBL536982  COCCCOc1cc(C[C@@H](C[C@H](N)[C@@H](O)C[C@@H](C...   \n",
       "4       CHEMBL536748  COCCCOc1cc(C[C@@H](C[C@H](N)[C@@H](O)C[C@@H](C...   \n",
       "\n",
       "  standard_type  standard_value standard_units assay_type assay_organism  \\\n",
       "0          IC50            77.0             nM          B   Homo sapiens   \n",
       "1          IC50             7.0             nM          B   Homo sapiens   \n",
       "2          IC50            10.0             nM          B   Homo sapiens   \n",
       "3          IC50             2.0             nM          B   Homo sapiens   \n",
       "4          IC50             2.0             nM          B   Homo sapiens   \n",
       "\n",
       "  target_organism  \n",
       "0    Homo sapiens  \n",
       "1    Homo sapiens  \n",
       "2    Homo sapiens  \n",
       "3    Homo sapiens  \n",
       "4    Homo sapiens  "
      ]
     },
     "execution_count": 22,
     "metadata": {},
     "output_type": "execute_result"
    }
   ],
   "source": [
    "data.head()"
   ]
  },
  {
   "cell_type": "code",
   "execution_count": 23,
   "metadata": {},
   "outputs": [
    {
     "data": {
      "text/plain": [
       "standard_units\n",
       "nM    2190\n",
       "dtype: int64"
      ]
     },
     "execution_count": 23,
     "metadata": {},
     "output_type": "execute_result"
    }
   ],
   "source": [
    "data.pivot_table(index = ['standard_units'], aggfunc='size')"
   ]
  },
  {
   "cell_type": "code",
   "execution_count": 24,
   "metadata": {},
   "outputs": [],
   "source": [
    "def statDescribe (data):\n",
    "    data_min = min(data)\n",
    "    data_max = max(data)\n",
    "    data_mean = round(mean(data), 2)\n",
    "    data_mode = mode(data)\n",
    "    data_median = median(data)\n",
    "    print('Минимальное значение: {0} \\nМаксимальное значение: {1} \\nСреднее значение: {2} \\nМода: {3} \\nМедиана: {4}'\\\n",
    "          .format(data_min, data_max, data_mean, data_mode, data_median))"
   ]
  },
  {
   "cell_type": "code",
   "execution_count": 25,
   "metadata": {},
   "outputs": [
    {
     "name": "stdout",
     "output_type": "stream",
     "text": [
      "Минимальное значение: 2.6000000000000003e-10 \n",
      "Максимальное значение: 300000.0 \n",
      "Среднее значение: 1823.59 \n",
      "Мода: 2.0 \n",
      "Медиана: 9.0\n"
     ]
    }
   ],
   "source": [
    "statDescribe(data['standard_value'])"
   ]
  },
  {
   "cell_type": "code",
   "execution_count": 26,
   "metadata": {},
   "outputs": [],
   "source": [
    "def calcPic50(st_values):\n",
    "    for i in range(0, len(st_values)):\n",
    "        st_values[i] = st_values[i]*10**-9\n",
    "        st_values[i] = round(-np.log10(st_values[i]), 3)\n",
    "    return st_values"
   ]
  },
  {
   "cell_type": "code",
   "execution_count": 27,
   "metadata": {},
   "outputs": [],
   "source": [
    "st_val = list(data['standard_value'])"
   ]
  },
  {
   "cell_type": "code",
   "execution_count": 28,
   "metadata": {},
   "outputs": [],
   "source": [
    "pic50_vals = calcPic50(st_val)"
   ]
  },
  {
   "cell_type": "code",
   "execution_count": 29,
   "metadata": {},
   "outputs": [
    {
     "name": "stderr",
     "output_type": "stream",
     "text": [
      "/Users/maria/opt/anaconda3/lib/python3.8/site-packages/seaborn/distributions.py:2551: FutureWarning: `distplot` is a deprecated function and will be removed in a future version. Please adapt your code to use either `displot` (a figure-level function with similar flexibility) or `histplot` (an axes-level function for histograms).\n",
      "  warnings.warn(msg, FutureWarning)\n"
     ]
    },
    {
     "data": {
      "image/png": "[encoded data removed]",
      "text/plain": [
       "<Figure size 432x288 with 1 Axes>"
      ]
     },
     "metadata": {
      "needs_background": "light"
     },
     "output_type": "display_data"
    }
   ],
   "source": [
    "plot = sns.distplot(pic50_vals)"
   ]
  },
  {
   "cell_type": "code",
   "execution_count": 30,
   "metadata": {},
   "outputs": [
    {
     "name": "stdout",
     "output_type": "stream",
     "text": [
      "Минимальное значение: 3.523 \n",
      "Максимальное значение: 18.585 \n",
      "Среднее значение: 7.83 \n",
      "Мода: 8.699 \n",
      "Медиана: 8.046\n"
     ]
    }
   ],
   "source": [
    "statDescribe(pic50_vals)"
   ]
  },
  {
   "cell_type": "code",
   "execution_count": 31,
   "metadata": {},
   "outputs": [],
   "source": [
    "data['pIC50'] = pic50_vals"
   ]
  },
  {
   "cell_type": "code",
   "execution_count": 32,
   "metadata": {},
   "outputs": [
    {
     "data": {
      "text/html": [
       "<div>\n",
       "<style scoped>\n",
       "    .dataframe tbody tr th:only-of-type {\n",
       "        vertical-align: middle;\n",
       "    }\n",
       "\n",
       "    .dataframe tbody tr th {\n",
       "        vertical-align: top;\n",
       "    }\n",
       "\n",
       "    .dataframe thead th {\n",
       "        text-align: right;\n",
       "    }\n",
       "</style>\n",
       "<table border=\"1\" class=\"dataframe\">\n",
       "  <thead>\n",
       "    <tr style=\"text-align: right;\">\n",
       "      <th></th>\n",
       "      <th>molecule_chembl_id</th>\n",
       "      <th>Smiles</th>\n",
       "      <th>standard_type</th>\n",
       "      <th>standard_value</th>\n",
       "      <th>standard_units</th>\n",
       "      <th>assay_type</th>\n",
       "      <th>assay_organism</th>\n",
       "      <th>target_organism</th>\n",
       "      <th>pIC50</th>\n",
       "    </tr>\n",
       "  </thead>\n",
       "  <tbody>\n",
       "    <tr>\n",
       "      <th>0</th>\n",
       "      <td>CHEMBL50412</td>\n",
       "      <td>CC(C)C[C@H](NC(=O)[C@H](Cc1ccccc1)NC(=O)OC(C)(...</td>\n",
       "      <td>IC50</td>\n",
       "      <td>77.0</td>\n",
       "      <td>nM</td>\n",
       "      <td>B</td>\n",
       "      <td>Homo sapiens</td>\n",
       "      <td>Homo sapiens</td>\n",
       "      <td>7.114</td>\n",
       "    </tr>\n",
       "    <tr>\n",
       "      <th>1</th>\n",
       "      <td>CHEMBL537666</td>\n",
       "      <td>COCCCOc1cc(C[C@@H](C[C@H](N)[C@@H](O)C[C@@H](C...</td>\n",
       "      <td>IC50</td>\n",
       "      <td>7.0</td>\n",
       "      <td>nM</td>\n",
       "      <td>B</td>\n",
       "      <td>Homo sapiens</td>\n",
       "      <td>Homo sapiens</td>\n",
       "      <td>8.155</td>\n",
       "    </tr>\n",
       "    <tr>\n",
       "      <th>2</th>\n",
       "      <td>CHEMBL538092</td>\n",
       "      <td>COCCCOc1cc(C[C@@H](C[C@H](N)[C@@H](O)C[C@@H](C...</td>\n",
       "      <td>IC50</td>\n",
       "      <td>10.0</td>\n",
       "      <td>nM</td>\n",
       "      <td>B</td>\n",
       "      <td>Homo sapiens</td>\n",
       "      <td>Homo sapiens</td>\n",
       "      <td>8.000</td>\n",
       "    </tr>\n",
       "    <tr>\n",
       "      <th>3</th>\n",
       "      <td>CHEMBL536982</td>\n",
       "      <td>COCCCOc1cc(C[C@@H](C[C@H](N)[C@@H](O)C[C@@H](C...</td>\n",
       "      <td>IC50</td>\n",
       "      <td>2.0</td>\n",
       "      <td>nM</td>\n",
       "      <td>B</td>\n",
       "      <td>Homo sapiens</td>\n",
       "      <td>Homo sapiens</td>\n",
       "      <td>8.699</td>\n",
       "    </tr>\n",
       "    <tr>\n",
       "      <th>4</th>\n",
       "      <td>CHEMBL536748</td>\n",
       "      <td>COCCCOc1cc(C[C@@H](C[C@H](N)[C@@H](O)C[C@@H](C...</td>\n",
       "      <td>IC50</td>\n",
       "      <td>2.0</td>\n",
       "      <td>nM</td>\n",
       "      <td>B</td>\n",
       "      <td>Homo sapiens</td>\n",
       "      <td>Homo sapiens</td>\n",
       "      <td>8.699</td>\n",
       "    </tr>\n",
       "  </tbody>\n",
       "</table>\n",
       "</div>"
      ],
      "text/plain": [
       "  molecule_chembl_id                                             Smiles  \\\n",
       "0        CHEMBL50412  CC(C)C[C@H](NC(=O)[C@H](Cc1ccccc1)NC(=O)OC(C)(...   \n",
       "1       CHEMBL537666  COCCCOc1cc(C[C@@H](C[C@H](N)[C@@H](O)C[C@@H](C...   \n",
       "2       CHEMBL538092  COCCCOc1cc(C[C@@H](C[C@H](N)[C@@H](O)C[C@@H](C...   \n",
       "3       CHEMBL536982  COCCCOc1cc(C[C@@H](C[C@H](N)[C@@H](O)C[C@@H](C...   \n",
       "4       CHEMBL536748  COCCCOc1cc(C[C@@H](C[C@H](N)[C@@H](O)C[C@@H](C...   \n",
       "\n",
       "  standard_type  standard_value standard_units assay_type assay_organism  \\\n",
       "0          IC50            77.0             nM          B   Homo sapiens   \n",
       "1          IC50             7.0             nM          B   Homo sapiens   \n",
       "2          IC50            10.0             nM          B   Homo sapiens   \n",
       "3          IC50             2.0             nM          B   Homo sapiens   \n",
       "4          IC50             2.0             nM          B   Homo sapiens   \n",
       "\n",
       "  target_organism  pIC50  \n",
       "0    Homo sapiens  7.114  \n",
       "1    Homo sapiens  8.155  \n",
       "2    Homo sapiens  8.000  \n",
       "3    Homo sapiens  8.699  \n",
       "4    Homo sapiens  8.699  "
      ]
     },
     "execution_count": 32,
     "metadata": {},
     "output_type": "execute_result"
    }
   ],
   "source": [
    "data.head()"
   ]
  },
  {
   "cell_type": "code",
   "execution_count": 33,
   "metadata": {},
   "outputs": [
    {
     "data": {
      "text/html": [
       "<div>\n",
       "<style scoped>\n",
       "    .dataframe tbody tr th:only-of-type {\n",
       "        vertical-align: middle;\n",
       "    }\n",
       "\n",
       "    .dataframe tbody tr th {\n",
       "        vertical-align: top;\n",
       "    }\n",
       "\n",
       "    .dataframe thead th {\n",
       "        text-align: right;\n",
       "    }\n",
       "</style>\n",
       "<table border=\"1\" class=\"dataframe\">\n",
       "  <thead>\n",
       "    <tr style=\"text-align: right;\">\n",
       "      <th></th>\n",
       "      <th>molecule_chembl_id</th>\n",
       "      <th>Smiles</th>\n",
       "      <th>standard_type</th>\n",
       "      <th>standard_value</th>\n",
       "      <th>standard_units</th>\n",
       "      <th>assay_type</th>\n",
       "      <th>assay_organism</th>\n",
       "      <th>target_organism</th>\n",
       "      <th>pIC50</th>\n",
       "    </tr>\n",
       "  </thead>\n",
       "  <tbody>\n",
       "    <tr>\n",
       "      <th>0</th>\n",
       "      <td>CHEMBL50412</td>\n",
       "      <td>CC(C)C[C@H](NC(=O)[C@H](Cc1ccccc1)NC(=O)OC(C)(...</td>\n",
       "      <td>IC50</td>\n",
       "      <td>77.0</td>\n",
       "      <td>nM</td>\n",
       "      <td>B</td>\n",
       "      <td>Homo sapiens</td>\n",
       "      <td>Homo sapiens</td>\n",
       "      <td>7.114</td>\n",
       "    </tr>\n",
       "    <tr>\n",
       "      <th>1</th>\n",
       "      <td>CHEMBL537666</td>\n",
       "      <td>COCCCOc1cc(C[C@@H](C[C@H](N)[C@@H](O)C[C@@H](C...</td>\n",
       "      <td>IC50</td>\n",
       "      <td>7.0</td>\n",
       "      <td>nM</td>\n",
       "      <td>B</td>\n",
       "      <td>Homo sapiens</td>\n",
       "      <td>Homo sapiens</td>\n",
       "      <td>8.155</td>\n",
       "    </tr>\n",
       "    <tr>\n",
       "      <th>2</th>\n",
       "      <td>CHEMBL538092</td>\n",
       "      <td>COCCCOc1cc(C[C@@H](C[C@H](N)[C@@H](O)C[C@@H](C...</td>\n",
       "      <td>IC50</td>\n",
       "      <td>10.0</td>\n",
       "      <td>nM</td>\n",
       "      <td>B</td>\n",
       "      <td>Homo sapiens</td>\n",
       "      <td>Homo sapiens</td>\n",
       "      <td>8.000</td>\n",
       "    </tr>\n",
       "    <tr>\n",
       "      <th>3</th>\n",
       "      <td>CHEMBL536982</td>\n",
       "      <td>COCCCOc1cc(C[C@@H](C[C@H](N)[C@@H](O)C[C@@H](C...</td>\n",
       "      <td>IC50</td>\n",
       "      <td>2.0</td>\n",
       "      <td>nM</td>\n",
       "      <td>B</td>\n",
       "      <td>Homo sapiens</td>\n",
       "      <td>Homo sapiens</td>\n",
       "      <td>8.699</td>\n",
       "    </tr>\n",
       "    <tr>\n",
       "      <th>4</th>\n",
       "      <td>CHEMBL536748</td>\n",
       "      <td>COCCCOc1cc(C[C@@H](C[C@H](N)[C@@H](O)C[C@@H](C...</td>\n",
       "      <td>IC50</td>\n",
       "      <td>2.0</td>\n",
       "      <td>nM</td>\n",
       "      <td>B</td>\n",
       "      <td>Homo sapiens</td>\n",
       "      <td>Homo sapiens</td>\n",
       "      <td>8.699</td>\n",
       "    </tr>\n",
       "  </tbody>\n",
       "</table>\n",
       "</div>"
      ],
      "text/plain": [
       "  molecule_chembl_id                                             Smiles  \\\n",
       "0        CHEMBL50412  CC(C)C[C@H](NC(=O)[C@H](Cc1ccccc1)NC(=O)OC(C)(...   \n",
       "1       CHEMBL537666  COCCCOc1cc(C[C@@H](C[C@H](N)[C@@H](O)C[C@@H](C...   \n",
       "2       CHEMBL538092  COCCCOc1cc(C[C@@H](C[C@H](N)[C@@H](O)C[C@@H](C...   \n",
       "3       CHEMBL536982  COCCCOc1cc(C[C@@H](C[C@H](N)[C@@H](O)C[C@@H](C...   \n",
       "4       CHEMBL536748  COCCCOc1cc(C[C@@H](C[C@H](N)[C@@H](O)C[C@@H](C...   \n",
       "\n",
       "  standard_type  standard_value standard_units assay_type assay_organism  \\\n",
       "0          IC50            77.0             nM          B   Homo sapiens   \n",
       "1          IC50             7.0             nM          B   Homo sapiens   \n",
       "2          IC50            10.0             nM          B   Homo sapiens   \n",
       "3          IC50             2.0             nM          B   Homo sapiens   \n",
       "4          IC50             2.0             nM          B   Homo sapiens   \n",
       "\n",
       "  target_organism  pIC50  \n",
       "0    Homo sapiens  7.114  \n",
       "1    Homo sapiens  8.155  \n",
       "2    Homo sapiens  8.000  \n",
       "3    Homo sapiens  8.699  \n",
       "4    Homo sapiens  8.699  "
      ]
     },
     "execution_count": 33,
     "metadata": {},
     "output_type": "execute_result"
    }
   ],
   "source": [
    "data = data.query(\"pIC50 >= 6.0\")\n",
    "data.head()"
   ]
  },
  {
   "cell_type": "code",
   "execution_count": 34,
   "metadata": {},
   "outputs": [],
   "source": [
    "data.to_csv('Data_ML.csv', index=False)"
   ]
  },
  {
   "cell_type": "markdown",
   "metadata": {},
   "source": [
    "### Введение в RDkit, молекулярные дескрипторы "
   ]
  },
  {
   "cell_type": "code",
   "execution_count": 35,
   "metadata": {},
   "outputs": [
    {
     "ename": "ModuleNotFoundError",
     "evalue": "No module named 'rdkit'",
     "output_type": "error",
     "traceback": [
      "\u001b[0;31m---------------------------------------------------------------------------\u001b[0m",
      "\u001b[0;31mModuleNotFoundError\u001b[0m                       Traceback (most recent call last)",
      "\u001b[0;32m<ipython-input-35-054b2097eb70>\u001b[0m in \u001b[0;36m<module>\u001b[0;34m\u001b[0m\n\u001b[0;32m----> 1\u001b[0;31m \u001b[0;32mfrom\u001b[0m \u001b[0mrdkit\u001b[0m \u001b[0;32mimport\u001b[0m \u001b[0mChem\u001b[0m\u001b[0;34m\u001b[0m\u001b[0;34m\u001b[0m\u001b[0m\n\u001b[0m\u001b[1;32m      2\u001b[0m \u001b[0;32mfrom\u001b[0m \u001b[0mrdkit\u001b[0m\u001b[0;34m.\u001b[0m\u001b[0mChem\u001b[0m \u001b[0;32mimport\u001b[0m \u001b[0mAllChem\u001b[0m\u001b[0;34m,\u001b[0m \u001b[0mDraw\u001b[0m\u001b[0;34m,\u001b[0m \u001b[0mDescriptors\u001b[0m\u001b[0;34m\u001b[0m\u001b[0;34m\u001b[0m\u001b[0m\n\u001b[1;32m      3\u001b[0m \u001b[0;32mfrom\u001b[0m \u001b[0mrdkit\u001b[0m\u001b[0;34m.\u001b[0m\u001b[0mChem\u001b[0m\u001b[0;34m.\u001b[0m\u001b[0mDescriptors\u001b[0m \u001b[0;32mimport\u001b[0m \u001b[0mrdMolDescriptors\u001b[0m\u001b[0;34m\u001b[0m\u001b[0;34m\u001b[0m\u001b[0m\n",
      "\u001b[0;31mModuleNotFoundError\u001b[0m: No module named 'rdkit'"
     ]
    }
   ],
   "source": [
    "from rdkit import Chem\n",
    "from rdkit.Chem import AllChem, Draw, Descriptors\n",
    "from rdkit.Chem.Descriptors import rdMolDescriptors"
   ]
  },
  {
   "cell_type": "code",
   "execution_count": 36,
   "metadata": {},
   "outputs": [
    {
     "data": {
      "text/plain": [
       "'CC(C)C[C@H](NC(=O)[C@H](Cc1ccccc1)NC(=O)OC(C)(C)C)C(=O)N[C@@H](CC1CCCCC1)[C@@H](O)CCS(=O)(=O)C(C)C'"
      ]
     },
     "execution_count": 36,
     "metadata": {},
     "output_type": "execute_result"
    }
   ],
   "source": [
    "smile = data['Smiles'][0]\n",
    "smile"
   ]
  },
  {
   "cell_type": "code",
   "execution_count": 37,
   "metadata": {},
   "outputs": [
    {
     "ename": "NameError",
     "evalue": "name 'Chem' is not defined",
     "output_type": "error",
     "traceback": [
      "\u001b[0;31m---------------------------------------------------------------------------\u001b[0m",
      "\u001b[0;31mNameError\u001b[0m                                 Traceback (most recent call last)",
      "\u001b[0;32m<ipython-input-37-6c7335b95211>\u001b[0m in \u001b[0;36m<module>\u001b[0;34m\u001b[0m\n\u001b[0;32m----> 1\u001b[0;31m \u001b[0mmol\u001b[0m \u001b[0;34m=\u001b[0m \u001b[0mChem\u001b[0m\u001b[0;34m.\u001b[0m\u001b[0mMolFromSmiles\u001b[0m\u001b[0;34m(\u001b[0m\u001b[0msmile\u001b[0m\u001b[0;34m)\u001b[0m\u001b[0;34m\u001b[0m\u001b[0;34m\u001b[0m\u001b[0m\n\u001b[0m\u001b[1;32m      2\u001b[0m \u001b[0mmol\u001b[0m\u001b[0;34m\u001b[0m\u001b[0;34m\u001b[0m\u001b[0m\n",
      "\u001b[0;31mNameError\u001b[0m: name 'Chem' is not defined"
     ]
    }
   ],
   "source": [
    "mol = Chem.MolFromSmiles(smile)\n",
    "mol"
   ]
  },
  {
   "cell_type": "code",
   "execution_count": 38,
   "metadata": {},
   "outputs": [
    {
     "ename": "NameError",
     "evalue": "name 'mol' is not defined",
     "output_type": "error",
     "traceback": [
      "\u001b[0;31m---------------------------------------------------------------------------\u001b[0m",
      "\u001b[0;31mNameError\u001b[0m                                 Traceback (most recent call last)",
      "\u001b[0;32m<ipython-input-38-3c3b7a1f64a5>\u001b[0m in \u001b[0;36m<module>\u001b[0;34m\u001b[0m\n\u001b[0;32m----> 1\u001b[0;31m \u001b[0mtype\u001b[0m\u001b[0;34m(\u001b[0m\u001b[0mmol\u001b[0m\u001b[0;34m)\u001b[0m\u001b[0;34m\u001b[0m\u001b[0;34m\u001b[0m\u001b[0m\n\u001b[0m",
      "\u001b[0;31mNameError\u001b[0m: name 'mol' is not defined"
     ]
    }
   ],
   "source": [
    "type(mol)"
   ]
  },
  {
   "cell_type": "code",
   "execution_count": 39,
   "metadata": {},
   "outputs": [
    {
     "ename": "NameError",
     "evalue": "name 'Chem' is not defined",
     "output_type": "error",
     "traceback": [
      "\u001b[0;31m---------------------------------------------------------------------------\u001b[0m",
      "\u001b[0;31mNameError\u001b[0m                                 Traceback (most recent call last)",
      "\u001b[0;32m<ipython-input-39-b96c0050ba9a>\u001b[0m in \u001b[0;36m<module>\u001b[0;34m\u001b[0m\n\u001b[0;32m----> 1\u001b[0;31m \u001b[0mmol\u001b[0m  \u001b[0;34m=\u001b[0m \u001b[0mChem\u001b[0m\u001b[0;34m.\u001b[0m\u001b[0mAddHs\u001b[0m\u001b[0;34m(\u001b[0m\u001b[0mmol\u001b[0m\u001b[0;34m)\u001b[0m\u001b[0;34m\u001b[0m\u001b[0;34m\u001b[0m\u001b[0m\n\u001b[0m\u001b[1;32m      2\u001b[0m \u001b[0mmol\u001b[0m\u001b[0;34m\u001b[0m\u001b[0;34m\u001b[0m\u001b[0m\n",
      "\u001b[0;31mNameError\u001b[0m: name 'Chem' is not defined"
     ]
    }
   ],
   "source": [
    "mol  = Chem.AddHs(mol)\n",
    "mol"
   ]
  },
  {
   "cell_type": "code",
   "execution_count": 40,
   "metadata": {},
   "outputs": [
    {
     "ename": "NameError",
     "evalue": "name 'Chem' is not defined",
     "output_type": "error",
     "traceback": [
      "\u001b[0;31m---------------------------------------------------------------------------\u001b[0m",
      "\u001b[0;31mNameError\u001b[0m                                 Traceback (most recent call last)",
      "\u001b[0;32m<ipython-input-40-ed598f617cd6>\u001b[0m in \u001b[0;36m<module>\u001b[0;34m\u001b[0m\n\u001b[0;32m----> 1\u001b[0;31m \u001b[0mprint\u001b[0m\u001b[0;34m(\u001b[0m\u001b[0mChem\u001b[0m\u001b[0;34m.\u001b[0m\u001b[0mMolToMolBlock\u001b[0m\u001b[0;34m(\u001b[0m\u001b[0mmol\u001b[0m\u001b[0;34m)\u001b[0m\u001b[0;34m)\u001b[0m\u001b[0;34m\u001b[0m\u001b[0;34m\u001b[0m\u001b[0m\n\u001b[0m",
      "\u001b[0;31mNameError\u001b[0m: name 'Chem' is not defined"
     ]
    }
   ],
   "source": [
    "print(Chem.MolToMolBlock(mol))"
   ]
  },
  {
   "cell_type": "code",
   "execution_count": 41,
   "metadata": {},
   "outputs": [
    {
     "ename": "NameError",
     "evalue": "name 'AllChem' is not defined",
     "output_type": "error",
     "traceback": [
      "\u001b[0;31m---------------------------------------------------------------------------\u001b[0m",
      "\u001b[0;31mNameError\u001b[0m                                 Traceback (most recent call last)",
      "\u001b[0;32m<ipython-input-41-4f86d19f8ea8>\u001b[0m in \u001b[0;36m<module>\u001b[0;34m\u001b[0m\n\u001b[0;32m----> 1\u001b[0;31m \u001b[0mAllChem\u001b[0m\u001b[0;34m.\u001b[0m\u001b[0mEmbedMolecule\u001b[0m\u001b[0;34m(\u001b[0m\u001b[0mmol\u001b[0m\u001b[0;34m)\u001b[0m\u001b[0;34m\u001b[0m\u001b[0;34m\u001b[0m\u001b[0m\n\u001b[0m\u001b[1;32m      2\u001b[0m \u001b[0mmol\u001b[0m\u001b[0;34m\u001b[0m\u001b[0;34m\u001b[0m\u001b[0m\n",
      "\u001b[0;31mNameError\u001b[0m: name 'AllChem' is not defined"
     ]
    }
   ],
   "source": [
    "AllChem.EmbedMolecule(mol)\n",
    "mol"
   ]
  },
  {
   "cell_type": "code",
   "execution_count": 42,
   "metadata": {},
   "outputs": [
    {
     "ename": "NameError",
     "evalue": "name 'Chem' is not defined",
     "output_type": "error",
     "traceback": [
      "\u001b[0;31m---------------------------------------------------------------------------\u001b[0m",
      "\u001b[0;31mNameError\u001b[0m                                 Traceback (most recent call last)",
      "\u001b[0;32m<ipython-input-42-ed598f617cd6>\u001b[0m in \u001b[0;36m<module>\u001b[0;34m\u001b[0m\n\u001b[0;32m----> 1\u001b[0;31m \u001b[0mprint\u001b[0m\u001b[0;34m(\u001b[0m\u001b[0mChem\u001b[0m\u001b[0;34m.\u001b[0m\u001b[0mMolToMolBlock\u001b[0m\u001b[0;34m(\u001b[0m\u001b[0mmol\u001b[0m\u001b[0;34m)\u001b[0m\u001b[0;34m)\u001b[0m\u001b[0;34m\u001b[0m\u001b[0;34m\u001b[0m\u001b[0m\n\u001b[0m",
      "\u001b[0;31mNameError\u001b[0m: name 'Chem' is not defined"
     ]
    }
   ],
   "source": [
    "print(Chem.MolToMolBlock(mol))"
   ]
  },
  {
   "cell_type": "code",
   "execution_count": 48,
   "metadata": {},
   "outputs": [],
   "source": [
    "def describe_mol(mol):\n",
    "    mw = round(Descriptors.MolWt(mol), 3)\n",
    "    logP = round(Descriptors.MolLogP(mol), 3)\n",
    "    des_obj = rdMolDescriptors.GetMACCSKeysFingerprint(mol)\n",
    "    des = des_obj.ToBitString()\n",
    "    print(f'Молекулярная масса: {mw} \\nLogP: {logP} \\nMACCSKeys: {des}')"
   ]
  },
  {
   "cell_type": "code",
   "execution_count": 49,
   "metadata": {},
   "outputs": [
    {
     "name": "stdout",
     "output_type": "stream",
     "text": [
      "Молекулярная масса: 477.496 \n",
      "LogP: 0.83 \n",
      "MACCSKeys: 00000000000000000100000000000000000001000011000000000010000000100010000000010101101101110111110111101100111100111100011011100111110101111110101111111011111111111111110\n"
     ]
    }
   ],
   "source": [
    "describe_mol(mol)"
   ]
  },
  {
   "cell_type": "code",
   "execution_count": null,
   "metadata": {},
   "outputs": [],
   "source": []
  }
 ],
 "metadata": {
  "kernelspec": {
   "display_name": "Python 3",
   "language": "python",
   "name": "python3"
  },
  "language_info": {
   "codemirror_mode": {
    "name": "ipython",
    "version": 3
   },
   "file_extension": ".py",
   "mimetype": "text/x-python",
   "name": "python",
   "nbconvert_exporter": "python",
   "pygments_lexer": "ipython3",
   "version": "3.8.5"
  }
 },
 "nbformat": 4,
 "nbformat_minor": 4
}
