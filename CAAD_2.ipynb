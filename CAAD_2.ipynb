{
 "cells": [
  {
   "cell_type": "code",
   "execution_count": 1,
   "metadata": {
    "id": "TucSRzmGCHS9"
   },
   "outputs": [],
   "source": [
    "import pandas as pd"
   ]
  },
  {
   "cell_type": "code",
   "execution_count": 2,
   "metadata": {
    "id": "sWFcrIgOIFTM"
   },
   "outputs": [],
   "source": [
    "data = pd.read_csv('P00797.csv', sep=';')"
   ]
  },
  {
   "cell_type": "code",
   "execution_count": 3,
   "metadata": {
    "colab": {
     "base_uri": "https://localhost:8080/",
     "height": 445
    },
    "id": "N8irVvsLDPdE",
    "outputId": "3a84d958-8289-4eed-8cca-29aeb68b10d4"
   },
   "outputs": [
    {
     "data": {
      "text/html": [
       "<div>\n",
       "<style scoped>\n",
       "    .dataframe tbody tr th:only-of-type {\n",
       "        vertical-align: middle;\n",
       "    }\n",
       "\n",
       "    .dataframe tbody tr th {\n",
       "        vertical-align: top;\n",
       "    }\n",
       "\n",
       "    .dataframe thead th {\n",
       "        text-align: right;\n",
       "    }\n",
       "</style>\n",
       "<table border=\"1\" class=\"dataframe\">\n",
       "  <thead>\n",
       "    <tr style=\"text-align: right;\">\n",
       "      <th></th>\n",
       "      <th>Molecule ChEMBL ID</th>\n",
       "      <th>Molecule Name</th>\n",
       "      <th>Molecule Max Phase</th>\n",
       "      <th>Molecular Weight</th>\n",
       "      <th>#RO5 Violations</th>\n",
       "      <th>AlogP</th>\n",
       "      <th>Compound Key</th>\n",
       "      <th>Smiles</th>\n",
       "      <th>Standard Type</th>\n",
       "      <th>Standard Relation</th>\n",
       "      <th>...</th>\n",
       "      <th>Target ChEMBL ID</th>\n",
       "      <th>Target Name</th>\n",
       "      <th>Target Organism</th>\n",
       "      <th>Target Type</th>\n",
       "      <th>Document ChEMBL ID</th>\n",
       "      <th>Source ID</th>\n",
       "      <th>Source Description</th>\n",
       "      <th>Document Journal</th>\n",
       "      <th>Document Year</th>\n",
       "      <th>Cell ChEMBL ID</th>\n",
       "    </tr>\n",
       "  </thead>\n",
       "  <tbody>\n",
       "    <tr>\n",
       "      <th>0</th>\n",
       "      <td>CHEMBL48722</td>\n",
       "      <td>NaN</td>\n",
       "      <td>0</td>\n",
       "      <td>756.00</td>\n",
       "      <td>2</td>\n",
       "      <td>4.48</td>\n",
       "      <td>45</td>\n",
       "      <td>CC(C)[C@H](C[C@H](O)[C@H](CC1CCCCC1)NC(=O)[C@H...</td>\n",
       "      <td>IC50</td>\n",
       "      <td>'='</td>\n",
       "      <td>...</td>\n",
       "      <td>CHEMBL286</td>\n",
       "      <td>Renin</td>\n",
       "      <td>Homo sapiens</td>\n",
       "      <td>SINGLE PROTEIN</td>\n",
       "      <td>CHEMBL1126033</td>\n",
       "      <td>1</td>\n",
       "      <td>Scientific Literature</td>\n",
       "      <td>J. Med. Chem.</td>\n",
       "      <td>1992</td>\n",
       "      <td>None</td>\n",
       "    </tr>\n",
       "    <tr>\n",
       "      <th>1</th>\n",
       "      <td>CHEMBL342864</td>\n",
       "      <td>NaN</td>\n",
       "      <td>0</td>\n",
       "      <td>666.82</td>\n",
       "      <td>1</td>\n",
       "      <td>2.20</td>\n",
       "      <td>23</td>\n",
       "      <td>CCN1C[C@@H]([C@H](O)[C@H](CC2CCCCC2)NC(=O)[C@H...</td>\n",
       "      <td>IC50</td>\n",
       "      <td>'='</td>\n",
       "      <td>...</td>\n",
       "      <td>CHEMBL286</td>\n",
       "      <td>Renin</td>\n",
       "      <td>Homo sapiens</td>\n",
       "      <td>SINGLE PROTEIN</td>\n",
       "      <td>CHEMBL1126594</td>\n",
       "      <td>1</td>\n",
       "      <td>Scientific Literature</td>\n",
       "      <td>J. Med. Chem.</td>\n",
       "      <td>1993</td>\n",
       "      <td>None</td>\n",
       "    </tr>\n",
       "    <tr>\n",
       "      <th>2</th>\n",
       "      <td>CHEMBL143410</td>\n",
       "      <td>NaN</td>\n",
       "      <td>0</td>\n",
       "      <td>616.84</td>\n",
       "      <td>1</td>\n",
       "      <td>2.36</td>\n",
       "      <td>34</td>\n",
       "      <td>CC(C)C[C@H](O)[C@H](O)[C@H](CC1CCCCC1)NC(=O)[C...</td>\n",
       "      <td>IC50</td>\n",
       "      <td>'='</td>\n",
       "      <td>...</td>\n",
       "      <td>CHEMBL286</td>\n",
       "      <td>Renin</td>\n",
       "      <td>Homo sapiens</td>\n",
       "      <td>SINGLE PROTEIN</td>\n",
       "      <td>CHEMBL1126594</td>\n",
       "      <td>1</td>\n",
       "      <td>Scientific Literature</td>\n",
       "      <td>J. Med. Chem.</td>\n",
       "      <td>1993</td>\n",
       "      <td>None</td>\n",
       "    </tr>\n",
       "    <tr>\n",
       "      <th>3</th>\n",
       "      <td>CHEMBL50412</td>\n",
       "      <td>NaN</td>\n",
       "      <td>0</td>\n",
       "      <td>651.91</td>\n",
       "      <td>1</td>\n",
       "      <td>4.68</td>\n",
       "      <td>23</td>\n",
       "      <td>CC(C)C[C@H](NC(=O)[C@H](Cc1ccccc1)NC(=O)OC(C)(...</td>\n",
       "      <td>IC50</td>\n",
       "      <td>'='</td>\n",
       "      <td>...</td>\n",
       "      <td>CHEMBL286</td>\n",
       "      <td>Renin</td>\n",
       "      <td>Homo sapiens</td>\n",
       "      <td>SINGLE PROTEIN</td>\n",
       "      <td>CHEMBL1123605</td>\n",
       "      <td>1</td>\n",
       "      <td>Scientific Literature</td>\n",
       "      <td>J. Med. Chem.</td>\n",
       "      <td>1987</td>\n",
       "      <td>None</td>\n",
       "    </tr>\n",
       "    <tr>\n",
       "      <th>4</th>\n",
       "      <td>CHEMBL343968</td>\n",
       "      <td>NaN</td>\n",
       "      <td>0</td>\n",
       "      <td>705.97</td>\n",
       "      <td>1</td>\n",
       "      <td>4.74</td>\n",
       "      <td>25</td>\n",
       "      <td>CC(C)C[C@H](O)[C@H](O)[C@H](CC1CCCCC1)NC(=O)[C...</td>\n",
       "      <td>IC50</td>\n",
       "      <td>'='</td>\n",
       "      <td>...</td>\n",
       "      <td>CHEMBL286</td>\n",
       "      <td>Renin</td>\n",
       "      <td>Homo sapiens</td>\n",
       "      <td>SINGLE PROTEIN</td>\n",
       "      <td>CHEMBL1126595</td>\n",
       "      <td>1</td>\n",
       "      <td>Scientific Literature</td>\n",
       "      <td>J. Med. Chem.</td>\n",
       "      <td>1993</td>\n",
       "      <td>None</td>\n",
       "    </tr>\n",
       "  </tbody>\n",
       "</table>\n",
       "<p>5 rows × 41 columns</p>\n",
       "</div>"
      ],
      "text/plain": [
       "  Molecule ChEMBL ID Molecule Name  Molecule Max Phase  Molecular Weight  \\\n",
       "0        CHEMBL48722           NaN                   0            756.00   \n",
       "1       CHEMBL342864           NaN                   0            666.82   \n",
       "2       CHEMBL143410           NaN                   0            616.84   \n",
       "3        CHEMBL50412           NaN                   0            651.91   \n",
       "4       CHEMBL343968           NaN                   0            705.97   \n",
       "\n",
       "  #RO5 Violations AlogP Compound Key  \\\n",
       "0               2  4.48           45   \n",
       "1               1  2.20           23   \n",
       "2               1  2.36           34   \n",
       "3               1  4.68           23   \n",
       "4               1  4.74           25   \n",
       "\n",
       "                                              Smiles Standard Type  \\\n",
       "0  CC(C)[C@H](C[C@H](O)[C@H](CC1CCCCC1)NC(=O)[C@H...          IC50   \n",
       "1  CCN1C[C@@H]([C@H](O)[C@H](CC2CCCCC2)NC(=O)[C@H...          IC50   \n",
       "2  CC(C)C[C@H](O)[C@H](O)[C@H](CC1CCCCC1)NC(=O)[C...          IC50   \n",
       "3  CC(C)C[C@H](NC(=O)[C@H](Cc1ccccc1)NC(=O)OC(C)(...          IC50   \n",
       "4  CC(C)C[C@H](O)[C@H](O)[C@H](CC1CCCCC1)NC(=O)[C...          IC50   \n",
       "\n",
       "  Standard Relation  ...  Target ChEMBL ID Target Name  Target Organism  \\\n",
       "0               '='  ...         CHEMBL286       Renin     Homo sapiens   \n",
       "1               '='  ...         CHEMBL286       Renin     Homo sapiens   \n",
       "2               '='  ...         CHEMBL286       Renin     Homo sapiens   \n",
       "3               '='  ...         CHEMBL286       Renin     Homo sapiens   \n",
       "4               '='  ...         CHEMBL286       Renin     Homo sapiens   \n",
       "\n",
       "      Target Type Document ChEMBL ID Source ID     Source Description  \\\n",
       "0  SINGLE PROTEIN      CHEMBL1126033         1  Scientific Literature   \n",
       "1  SINGLE PROTEIN      CHEMBL1126594         1  Scientific Literature   \n",
       "2  SINGLE PROTEIN      CHEMBL1126594         1  Scientific Literature   \n",
       "3  SINGLE PROTEIN      CHEMBL1123605         1  Scientific Literature   \n",
       "4  SINGLE PROTEIN      CHEMBL1126595         1  Scientific Literature   \n",
       "\n",
       "  Document Journal Document Year Cell ChEMBL ID  \n",
       "0    J. Med. Chem.          1992           None  \n",
       "1    J. Med. Chem.          1993           None  \n",
       "2    J. Med. Chem.          1993           None  \n",
       "3    J. Med. Chem.          1987           None  \n",
       "4    J. Med. Chem.          1993           None  \n",
       "\n",
       "[5 rows x 41 columns]"
      ]
     },
     "execution_count": 3,
     "metadata": {},
     "output_type": "execute_result"
    }
   ],
   "source": [
    "data.head()"
   ]
  },
  {
   "cell_type": "code",
   "execution_count": 4,
   "metadata": {
    "colab": {
     "base_uri": "https://localhost:8080/",
     "height": 34
    },
    "id": "2lyWfuOeI3Cd",
    "outputId": "47ebda34-1875-4b71-ab00-f28afb8304d0"
   },
   "outputs": [
    {
     "data": {
      "text/plain": [
       "(5088, 41)"
      ]
     },
     "execution_count": 4,
     "metadata": {},
     "output_type": "execute_result"
    }
   ],
   "source": [
    "data.shape"
   ]
  },
  {
   "cell_type": "code",
   "execution_count": 5,
   "metadata": {
    "colab": {
     "base_uri": "https://localhost:8080/",
     "height": 745
    },
    "id": "gIpvYNIoUUz4",
    "outputId": "e91c39c4-d477-4ed9-a979-c0d7df17d36b"
   },
   "outputs": [
    {
     "data": {
      "text/plain": [
       "['Molecule ChEMBL ID',\n",
       " 'Molecule Name',\n",
       " 'Molecule Max Phase',\n",
       " 'Molecular Weight',\n",
       " '#RO5 Violations',\n",
       " 'AlogP',\n",
       " 'Compound Key',\n",
       " 'Smiles',\n",
       " 'Standard Type',\n",
       " 'Standard Relation',\n",
       " 'Standard Value',\n",
       " 'Standard Units',\n",
       " 'pChEMBL Value',\n",
       " 'Data Validity Comment',\n",
       " 'Comment',\n",
       " 'Uo Units',\n",
       " 'Ligand Efficiency BEI',\n",
       " 'Ligand Efficiency LE',\n",
       " 'Ligand Efficiency LLE',\n",
       " 'Ligand Efficiency SEI',\n",
       " 'Potential Duplicate',\n",
       " 'Assay ChEMBL ID',\n",
       " 'Assay Description',\n",
       " 'Assay Type',\n",
       " 'BAO Format ID',\n",
       " 'BAO Label',\n",
       " 'Assay Organism',\n",
       " 'Assay Tissue ChEMBL ID',\n",
       " 'Assay Tissue Name',\n",
       " 'Assay Cell Type',\n",
       " 'Assay Subcellular Fraction',\n",
       " 'Target ChEMBL ID',\n",
       " 'Target Name',\n",
       " 'Target Organism',\n",
       " 'Target Type',\n",
       " 'Document ChEMBL ID',\n",
       " 'Source ID',\n",
       " 'Source Description',\n",
       " 'Document Journal',\n",
       " 'Document Year',\n",
       " 'Cell ChEMBL ID']"
      ]
     },
     "execution_count": 5,
     "metadata": {},
     "output_type": "execute_result"
    }
   ],
   "source": [
    "cols = list(data.columns)\n",
    "cols"
   ]
  },
  {
   "cell_type": "code",
   "execution_count": 6,
   "metadata": {
    "id": "N9XYqvP_Ukuo"
   },
   "outputs": [],
   "source": [
    "cols_we_need = ['Molecule ChEMBL ID', \n",
    "                'Smiles', \n",
    "                'Standard Type', \n",
    "                'Standard Value', \n",
    "                'Standard Units',\n",
    "                'Assay Type',\n",
    "                'Assay Organism',\n",
    "                'Target Organism']"
   ]
  },
  {
   "cell_type": "code",
   "execution_count": 7,
   "metadata": {
    "colab": {
     "base_uri": "https://localhost:8080/",
     "height": 158
    },
    "id": "bvgRHNU9U2RC",
    "outputId": "0f181f88-ec0a-4bd7-e6c4-000c016eebd0"
   },
   "outputs": [
    {
     "data": {
      "text/plain": [
       "['Molecule ChEMBL ID',\n",
       " 'Smiles',\n",
       " 'Standard Type',\n",
       " 'Standard Value',\n",
       " 'Standard Units',\n",
       " 'Assay Type',\n",
       " 'Assay Organism',\n",
       " 'Target Organism']"
      ]
     },
     "execution_count": 7,
     "metadata": {},
     "output_type": "execute_result"
    }
   ],
   "source": [
    "cols_we_need"
   ]
  },
  {
   "cell_type": "code",
   "execution_count": 8,
   "metadata": {
    "id": "HkEULXYEWVA6"
   },
   "outputs": [],
   "source": [
    "data_ed = data[cols_we_need]"
   ]
  },
  {
   "cell_type": "code",
   "execution_count": 9,
   "metadata": {
    "colab": {
     "base_uri": "https://localhost:8080/",
     "height": 406
    },
    "id": "oGiURBmXfcT1",
    "outputId": "b88f25ad-a7b4-4498-e945-6cf2f6ae6e52"
   },
   "outputs": [
    {
     "data": {
      "text/html": [
       "<div>\n",
       "<style scoped>\n",
       "    .dataframe tbody tr th:only-of-type {\n",
       "        vertical-align: middle;\n",
       "    }\n",
       "\n",
       "    .dataframe tbody tr th {\n",
       "        vertical-align: top;\n",
       "    }\n",
       "\n",
       "    .dataframe thead th {\n",
       "        text-align: right;\n",
       "    }\n",
       "</style>\n",
       "<table border=\"1\" class=\"dataframe\">\n",
       "  <thead>\n",
       "    <tr style=\"text-align: right;\">\n",
       "      <th></th>\n",
       "      <th>Molecule ChEMBL ID</th>\n",
       "      <th>Smiles</th>\n",
       "      <th>Standard Type</th>\n",
       "      <th>Standard Value</th>\n",
       "      <th>Standard Units</th>\n",
       "      <th>Assay Type</th>\n",
       "      <th>Assay Organism</th>\n",
       "      <th>Target Organism</th>\n",
       "    </tr>\n",
       "  </thead>\n",
       "  <tbody>\n",
       "    <tr>\n",
       "      <th>0</th>\n",
       "      <td>CHEMBL48722</td>\n",
       "      <td>CC(C)[C@H](C[C@H](O)[C@H](CC1CCCCC1)NC(=O)[C@H...</td>\n",
       "      <td>IC50</td>\n",
       "      <td>17.00</td>\n",
       "      <td>nM</td>\n",
       "      <td>B</td>\n",
       "      <td>None</td>\n",
       "      <td>Homo sapiens</td>\n",
       "    </tr>\n",
       "    <tr>\n",
       "      <th>1</th>\n",
       "      <td>CHEMBL342864</td>\n",
       "      <td>CCN1C[C@@H]([C@H](O)[C@H](CC2CCCCC2)NC(=O)[C@H...</td>\n",
       "      <td>IC50</td>\n",
       "      <td>21.00</td>\n",
       "      <td>nM</td>\n",
       "      <td>B</td>\n",
       "      <td>None</td>\n",
       "      <td>Homo sapiens</td>\n",
       "    </tr>\n",
       "    <tr>\n",
       "      <th>2</th>\n",
       "      <td>CHEMBL143410</td>\n",
       "      <td>CC(C)C[C@H](O)[C@H](O)[C@H](CC1CCCCC1)NC(=O)[C...</td>\n",
       "      <td>IC50</td>\n",
       "      <td>210.00</td>\n",
       "      <td>nM</td>\n",
       "      <td>B</td>\n",
       "      <td>None</td>\n",
       "      <td>Homo sapiens</td>\n",
       "    </tr>\n",
       "    <tr>\n",
       "      <th>3</th>\n",
       "      <td>CHEMBL50412</td>\n",
       "      <td>CC(C)C[C@H](NC(=O)[C@H](Cc1ccccc1)NC(=O)OC(C)(...</td>\n",
       "      <td>IC50</td>\n",
       "      <td>77.00</td>\n",
       "      <td>nM</td>\n",
       "      <td>B</td>\n",
       "      <td>Homo sapiens</td>\n",
       "      <td>Homo sapiens</td>\n",
       "    </tr>\n",
       "    <tr>\n",
       "      <th>4</th>\n",
       "      <td>CHEMBL343968</td>\n",
       "      <td>CC(C)C[C@H](O)[C@H](O)[C@H](CC1CCCCC1)NC(=O)[C...</td>\n",
       "      <td>IC50</td>\n",
       "      <td>0.76</td>\n",
       "      <td>nM</td>\n",
       "      <td>B</td>\n",
       "      <td>Cercopithecidae</td>\n",
       "      <td>Homo sapiens</td>\n",
       "    </tr>\n",
       "    <tr>\n",
       "      <th>...</th>\n",
       "      <td>...</td>\n",
       "      <td>...</td>\n",
       "      <td>...</td>\n",
       "      <td>...</td>\n",
       "      <td>...</td>\n",
       "      <td>...</td>\n",
       "      <td>...</td>\n",
       "      <td>...</td>\n",
       "    </tr>\n",
       "    <tr>\n",
       "      <th>5083</th>\n",
       "      <td>CHEMBL4207863</td>\n",
       "      <td>CCc1cccc(-c2c(F)cccc2C(O)(CCCNC(=O)OC)[C@@H]2C...</td>\n",
       "      <td>IC50</td>\n",
       "      <td>320.00</td>\n",
       "      <td>nM</td>\n",
       "      <td>B</td>\n",
       "      <td>Homo sapiens</td>\n",
       "      <td>Homo sapiens</td>\n",
       "    </tr>\n",
       "    <tr>\n",
       "      <th>5084</th>\n",
       "      <td>CHEMBL4214937</td>\n",
       "      <td>CCc1cccc(-c2c(Cl)cccc2C(O)(CCCNC(=O)OC)[C@@H]2...</td>\n",
       "      <td>IC50</td>\n",
       "      <td>8.40</td>\n",
       "      <td>nM</td>\n",
       "      <td>B</td>\n",
       "      <td>Homo sapiens</td>\n",
       "      <td>Homo sapiens</td>\n",
       "    </tr>\n",
       "    <tr>\n",
       "      <th>5085</th>\n",
       "      <td>CHEMBL4217427</td>\n",
       "      <td>CCc1cccc(-c2c(F)cccc2C(O)(CCCNC(=O)OC)[C@@H]2C...</td>\n",
       "      <td>IC50</td>\n",
       "      <td>6.30</td>\n",
       "      <td>nM</td>\n",
       "      <td>B</td>\n",
       "      <td>Homo sapiens</td>\n",
       "      <td>Homo sapiens</td>\n",
       "    </tr>\n",
       "    <tr>\n",
       "      <th>5086</th>\n",
       "      <td>CHEMBL4210026</td>\n",
       "      <td>CCc1cccc(-c2c(Cl)cccc2C(O)(CCCNC(=O)OC)[C@@H]2...</td>\n",
       "      <td>IC50</td>\n",
       "      <td>1.80</td>\n",
       "      <td>nM</td>\n",
       "      <td>B</td>\n",
       "      <td>Homo sapiens</td>\n",
       "      <td>Homo sapiens</td>\n",
       "    </tr>\n",
       "    <tr>\n",
       "      <th>5087</th>\n",
       "      <td>CHEMBL4212859</td>\n",
       "      <td>CCc1cccc(-c2c(F)cccc2C(O)(CCCNC(=O)OC)[C@@H]2C...</td>\n",
       "      <td>IC50</td>\n",
       "      <td>29.00</td>\n",
       "      <td>nM</td>\n",
       "      <td>B</td>\n",
       "      <td>Homo sapiens</td>\n",
       "      <td>Homo sapiens</td>\n",
       "    </tr>\n",
       "  </tbody>\n",
       "</table>\n",
       "<p>5088 rows × 8 columns</p>\n",
       "</div>"
      ],
      "text/plain": [
       "     Molecule ChEMBL ID                                             Smiles  \\\n",
       "0           CHEMBL48722  CC(C)[C@H](C[C@H](O)[C@H](CC1CCCCC1)NC(=O)[C@H...   \n",
       "1          CHEMBL342864  CCN1C[C@@H]([C@H](O)[C@H](CC2CCCCC2)NC(=O)[C@H...   \n",
       "2          CHEMBL143410  CC(C)C[C@H](O)[C@H](O)[C@H](CC1CCCCC1)NC(=O)[C...   \n",
       "3           CHEMBL50412  CC(C)C[C@H](NC(=O)[C@H](Cc1ccccc1)NC(=O)OC(C)(...   \n",
       "4          CHEMBL343968  CC(C)C[C@H](O)[C@H](O)[C@H](CC1CCCCC1)NC(=O)[C...   \n",
       "...                 ...                                                ...   \n",
       "5083      CHEMBL4207863  CCc1cccc(-c2c(F)cccc2C(O)(CCCNC(=O)OC)[C@@H]2C...   \n",
       "5084      CHEMBL4214937  CCc1cccc(-c2c(Cl)cccc2C(O)(CCCNC(=O)OC)[C@@H]2...   \n",
       "5085      CHEMBL4217427  CCc1cccc(-c2c(F)cccc2C(O)(CCCNC(=O)OC)[C@@H]2C...   \n",
       "5086      CHEMBL4210026  CCc1cccc(-c2c(Cl)cccc2C(O)(CCCNC(=O)OC)[C@@H]2...   \n",
       "5087      CHEMBL4212859  CCc1cccc(-c2c(F)cccc2C(O)(CCCNC(=O)OC)[C@@H]2C...   \n",
       "\n",
       "     Standard Type  Standard Value Standard Units Assay Type   Assay Organism  \\\n",
       "0             IC50           17.00             nM          B             None   \n",
       "1             IC50           21.00             nM          B             None   \n",
       "2             IC50          210.00             nM          B             None   \n",
       "3             IC50           77.00             nM          B     Homo sapiens   \n",
       "4             IC50            0.76             nM          B  Cercopithecidae   \n",
       "...            ...             ...            ...        ...              ...   \n",
       "5083          IC50          320.00             nM          B     Homo sapiens   \n",
       "5084          IC50            8.40             nM          B     Homo sapiens   \n",
       "5085          IC50            6.30             nM          B     Homo sapiens   \n",
       "5086          IC50            1.80             nM          B     Homo sapiens   \n",
       "5087          IC50           29.00             nM          B     Homo sapiens   \n",
       "\n",
       "     Target Organism  \n",
       "0       Homo sapiens  \n",
       "1       Homo sapiens  \n",
       "2       Homo sapiens  \n",
       "3       Homo sapiens  \n",
       "4       Homo sapiens  \n",
       "...              ...  \n",
       "5083    Homo sapiens  \n",
       "5084    Homo sapiens  \n",
       "5085    Homo sapiens  \n",
       "5086    Homo sapiens  \n",
       "5087    Homo sapiens  \n",
       "\n",
       "[5088 rows x 8 columns]"
      ]
     },
     "execution_count": 9,
     "metadata": {},
     "output_type": "execute_result"
    }
   ],
   "source": [
    "data_ed"
   ]
  },
  {
   "cell_type": "code",
   "execution_count": 10,
   "metadata": {
    "colab": {
     "base_uri": "https://localhost:8080/",
     "height": 176
    },
    "id": "Pia4ypvwfukB",
    "outputId": "2fba2bc9-008e-4dc8-98b1-136a45430ff2"
   },
   "outputs": [
    {
     "data": {
      "text/plain": [
       "Molecule ChEMBL ID      0\n",
       "Smiles                  0\n",
       "Standard Type           0\n",
       "Standard Value        121\n",
       "Standard Units        218\n",
       "Assay Type              0\n",
       "Assay Organism          0\n",
       "Target Organism         0\n",
       "dtype: int64"
      ]
     },
     "execution_count": 10,
     "metadata": {},
     "output_type": "execute_result"
    }
   ],
   "source": [
    "data_ed.isna().sum()"
   ]
  },
  {
   "cell_type": "code",
   "execution_count": 11,
   "metadata": {
    "id": "f4rRfzplhwTT"
   },
   "outputs": [],
   "source": [
    "data_ed = data_ed.dropna()"
   ]
  },
  {
   "cell_type": "code",
   "execution_count": 12,
   "metadata": {
    "colab": {
     "base_uri": "https://localhost:8080/",
     "height": 176
    },
    "id": "tbxK5A3RiYUa",
    "outputId": "677bcf3f-4996-4ee1-eec6-b5b9db6f553f"
   },
   "outputs": [
    {
     "data": {
      "text/plain": [
       "Molecule ChEMBL ID    0\n",
       "Smiles                0\n",
       "Standard Type         0\n",
       "Standard Value        0\n",
       "Standard Units        0\n",
       "Assay Type            0\n",
       "Assay Organism        0\n",
       "Target Organism       0\n",
       "dtype: int64"
      ]
     },
     "execution_count": 12,
     "metadata": {},
     "output_type": "execute_result"
    }
   ],
   "source": [
    "data_ed.isna().sum()"
   ]
  },
  {
   "cell_type": "code",
   "execution_count": 13,
   "metadata": {
    "id": "tSpxbpqJibtO"
   },
   "outputs": [],
   "source": [
    "u_values = []\n",
    "for i in range(0,len(data_ed.columns)):\n",
    "  u_val = data_ed[data_ed.columns[i]].nunique()\n",
    "  u_values.append(u_val)"
   ]
  },
  {
   "cell_type": "code",
   "execution_count": 14,
   "metadata": {
    "colab": {
     "base_uri": "https://localhost:8080/",
     "height": 34
    },
    "id": "GARjDP1ljD1f",
    "outputId": "96afa81b-51ba-41ee-ecda-a4c5a763b39c"
   },
   "outputs": [
    {
     "data": {
      "text/plain": [
       "[3265, 3265, 10, 911, 5, 2, 11, 1]"
      ]
     },
     "execution_count": 14,
     "metadata": {},
     "output_type": "execute_result"
    }
   ],
   "source": [
    "u_values"
   ]
  },
  {
   "cell_type": "code",
   "execution_count": 15,
   "metadata": {
    "id": "reEUNUL0jFLz"
   },
   "outputs": [],
   "source": [
    "data_ed_droped = data_ed.drop(['Molecule ChEMBL ID', 'Smiles', 'Standard Value'], axis = 1)"
   ]
  },
  {
   "cell_type": "code",
   "execution_count": 16,
   "metadata": {
    "id": "DGWXMAPerC12"
   },
   "outputs": [],
   "source": [
    "u_name_values = []\n",
    "for i in range(0,len(data_ed_droped.columns)):\n",
    "  u_n_val = list(data_ed[data_ed_droped.columns[i]].unique())\n",
    "  u_name_values.append(u_n_val)"
   ]
  },
  {
   "cell_type": "code",
   "execution_count": 17,
   "metadata": {
    "colab": {
     "base_uri": "https://localhost:8080/",
     "height": 105
    },
    "id": "ls-fljaUrKkc",
    "outputId": "12eb2b50-6bc5-41c5-a505-d0068140c88c"
   },
   "outputs": [
    {
     "data": {
      "text/plain": [
       "[['IC50',\n",
       "  'Inhibition',\n",
       "  'Ki',\n",
       "  'Kd',\n",
       "  'Affinity',\n",
       "  'Km',\n",
       "  'Koff',\n",
       "  'INH',\n",
       "  'Activity',\n",
       "  'k_on'],\n",
       " ['nM', '%', 'M-1', 'M-1.s-1', 'uM'],\n",
       " ['B', 'F'],\n",
       " ['None',\n",
       "  'Homo sapiens',\n",
       "  'Cercopithecidae',\n",
       "  'Felis catus',\n",
       "  'Canis lupus familiaris',\n",
       "  'Sus scrofa',\n",
       "  'Mustela putorius furo',\n",
       "  'Ovis aries',\n",
       "  'Cavia porcellus',\n",
       "  'Callitrichinae',\n",
       "  'Oryctolagus cuniculus'],\n",
       " ['Homo sapiens']]"
      ]
     },
     "execution_count": 17,
     "metadata": {},
     "output_type": "execute_result"
    }
   ],
   "source": [
    "u_name_values"
   ]
  },
  {
   "cell_type": "code",
   "execution_count": 18,
   "metadata": {
    "id": "xviHSoP0vAz0"
   },
   "outputs": [],
   "source": [
    "data_ed = data_ed.rename({'Molecule ChEMBL ID':'molecule_chembl_id',\n",
    "                          'Standard Type':'standard_type',\n",
    "                          'Standard Value':'standard_value',\n",
    "                          'Standard Units':'standard_units',\n",
    "                          'Assay Type':'assay_type',\n",
    "                          'Assay Organism':'assay_organism',\n",
    "                          'Target Organism':'target_organism'}, axis = 1)"
   ]
  },
  {
   "cell_type": "code",
   "execution_count": 19,
   "metadata": {
    "colab": {
     "base_uri": "https://localhost:8080/",
     "height": 266
    },
    "id": "G-Yj9GoAxUhV",
    "outputId": "919f18ea-ba38-4b77-e077-58aa1f4dc1a0"
   },
   "outputs": [
    {
     "data": {
      "text/html": [
       "<div>\n",
       "<style scoped>\n",
       "    .dataframe tbody tr th:only-of-type {\n",
       "        vertical-align: middle;\n",
       "    }\n",
       "\n",
       "    .dataframe tbody tr th {\n",
       "        vertical-align: top;\n",
       "    }\n",
       "\n",
       "    .dataframe thead th {\n",
       "        text-align: right;\n",
       "    }\n",
       "</style>\n",
       "<table border=\"1\" class=\"dataframe\">\n",
       "  <thead>\n",
       "    <tr style=\"text-align: right;\">\n",
       "      <th></th>\n",
       "      <th>molecule_chembl_id</th>\n",
       "      <th>Smiles</th>\n",
       "      <th>standard_type</th>\n",
       "      <th>standard_value</th>\n",
       "      <th>standard_units</th>\n",
       "      <th>assay_type</th>\n",
       "      <th>assay_organism</th>\n",
       "      <th>target_organism</th>\n",
       "    </tr>\n",
       "  </thead>\n",
       "  <tbody>\n",
       "    <tr>\n",
       "      <th>0</th>\n",
       "      <td>CHEMBL48722</td>\n",
       "      <td>CC(C)[C@H](C[C@H](O)[C@H](CC1CCCCC1)NC(=O)[C@H...</td>\n",
       "      <td>IC50</td>\n",
       "      <td>17.00</td>\n",
       "      <td>nM</td>\n",
       "      <td>B</td>\n",
       "      <td>None</td>\n",
       "      <td>Homo sapiens</td>\n",
       "    </tr>\n",
       "    <tr>\n",
       "      <th>1</th>\n",
       "      <td>CHEMBL342864</td>\n",
       "      <td>CCN1C[C@@H]([C@H](O)[C@H](CC2CCCCC2)NC(=O)[C@H...</td>\n",
       "      <td>IC50</td>\n",
       "      <td>21.00</td>\n",
       "      <td>nM</td>\n",
       "      <td>B</td>\n",
       "      <td>None</td>\n",
       "      <td>Homo sapiens</td>\n",
       "    </tr>\n",
       "    <tr>\n",
       "      <th>2</th>\n",
       "      <td>CHEMBL143410</td>\n",
       "      <td>CC(C)C[C@H](O)[C@H](O)[C@H](CC1CCCCC1)NC(=O)[C...</td>\n",
       "      <td>IC50</td>\n",
       "      <td>210.00</td>\n",
       "      <td>nM</td>\n",
       "      <td>B</td>\n",
       "      <td>None</td>\n",
       "      <td>Homo sapiens</td>\n",
       "    </tr>\n",
       "    <tr>\n",
       "      <th>3</th>\n",
       "      <td>CHEMBL50412</td>\n",
       "      <td>CC(C)C[C@H](NC(=O)[C@H](Cc1ccccc1)NC(=O)OC(C)(...</td>\n",
       "      <td>IC50</td>\n",
       "      <td>77.00</td>\n",
       "      <td>nM</td>\n",
       "      <td>B</td>\n",
       "      <td>Homo sapiens</td>\n",
       "      <td>Homo sapiens</td>\n",
       "    </tr>\n",
       "    <tr>\n",
       "      <th>4</th>\n",
       "      <td>CHEMBL343968</td>\n",
       "      <td>CC(C)C[C@H](O)[C@H](O)[C@H](CC1CCCCC1)NC(=O)[C...</td>\n",
       "      <td>IC50</td>\n",
       "      <td>0.76</td>\n",
       "      <td>nM</td>\n",
       "      <td>B</td>\n",
       "      <td>Cercopithecidae</td>\n",
       "      <td>Homo sapiens</td>\n",
       "    </tr>\n",
       "  </tbody>\n",
       "</table>\n",
       "</div>"
      ],
      "text/plain": [
       "  molecule_chembl_id                                             Smiles  \\\n",
       "0        CHEMBL48722  CC(C)[C@H](C[C@H](O)[C@H](CC1CCCCC1)NC(=O)[C@H...   \n",
       "1       CHEMBL342864  CCN1C[C@@H]([C@H](O)[C@H](CC2CCCCC2)NC(=O)[C@H...   \n",
       "2       CHEMBL143410  CC(C)C[C@H](O)[C@H](O)[C@H](CC1CCCCC1)NC(=O)[C...   \n",
       "3        CHEMBL50412  CC(C)C[C@H](NC(=O)[C@H](Cc1ccccc1)NC(=O)OC(C)(...   \n",
       "4       CHEMBL343968  CC(C)C[C@H](O)[C@H](O)[C@H](CC1CCCCC1)NC(=O)[C...   \n",
       "\n",
       "  standard_type  standard_value standard_units assay_type   assay_organism  \\\n",
       "0          IC50           17.00             nM          B             None   \n",
       "1          IC50           21.00             nM          B             None   \n",
       "2          IC50          210.00             nM          B             None   \n",
       "3          IC50           77.00             nM          B     Homo sapiens   \n",
       "4          IC50            0.76             nM          B  Cercopithecidae   \n",
       "\n",
       "  target_organism  \n",
       "0    Homo sapiens  \n",
       "1    Homo sapiens  \n",
       "2    Homo sapiens  \n",
       "3    Homo sapiens  \n",
       "4    Homo sapiens  "
      ]
     },
     "execution_count": 19,
     "metadata": {},
     "output_type": "execute_result"
    }
   ],
   "source": [
    "data_ed.head()"
   ]
  },
  {
   "cell_type": "code",
   "execution_count": 20,
   "metadata": {
    "id": "dC7kwd_evwGy"
   },
   "outputs": [],
   "source": [
    "data_last = data_ed.query(\"assay_type=='B' & assay_organism =='Homo sapiens'& target_organism =='Homo sapiens'\")"
   ]
  },
  {
   "cell_type": "code",
   "execution_count": 21,
   "metadata": {
    "colab": {
     "base_uri": "https://localhost:8080/",
     "height": 422
    },
    "id": "obEMvVA63Vki",
    "outputId": "6abea0db-1bff-4bbf-e0fc-4bb60dbe3f3f"
   },
   "outputs": [
    {
     "data": {
      "text/html": [
       "<div>\n",
       "<style scoped>\n",
       "    .dataframe tbody tr th:only-of-type {\n",
       "        vertical-align: middle;\n",
       "    }\n",
       "\n",
       "    .dataframe tbody tr th {\n",
       "        vertical-align: top;\n",
       "    }\n",
       "\n",
       "    .dataframe thead th {\n",
       "        text-align: right;\n",
       "    }\n",
       "</style>\n",
       "<table border=\"1\" class=\"dataframe\">\n",
       "  <thead>\n",
       "    <tr style=\"text-align: right;\">\n",
       "      <th></th>\n",
       "      <th>molecule_chembl_id</th>\n",
       "      <th>Smiles</th>\n",
       "      <th>standard_type</th>\n",
       "      <th>standard_value</th>\n",
       "      <th>standard_units</th>\n",
       "      <th>assay_type</th>\n",
       "      <th>assay_organism</th>\n",
       "      <th>target_organism</th>\n",
       "    </tr>\n",
       "  </thead>\n",
       "  <tbody>\n",
       "    <tr>\n",
       "      <th>3</th>\n",
       "      <td>CHEMBL50412</td>\n",
       "      <td>CC(C)C[C@H](NC(=O)[C@H](Cc1ccccc1)NC(=O)OC(C)(...</td>\n",
       "      <td>IC50</td>\n",
       "      <td>77.0</td>\n",
       "      <td>nM</td>\n",
       "      <td>B</td>\n",
       "      <td>Homo sapiens</td>\n",
       "      <td>Homo sapiens</td>\n",
       "    </tr>\n",
       "    <tr>\n",
       "      <th>9</th>\n",
       "      <td>CHEMBL537666</td>\n",
       "      <td>COCCCOc1cc(C[C@@H](C[C@H](N)[C@@H](O)C[C@@H](C...</td>\n",
       "      <td>IC50</td>\n",
       "      <td>7.0</td>\n",
       "      <td>nM</td>\n",
       "      <td>B</td>\n",
       "      <td>Homo sapiens</td>\n",
       "      <td>Homo sapiens</td>\n",
       "    </tr>\n",
       "    <tr>\n",
       "      <th>13</th>\n",
       "      <td>CHEMBL538092</td>\n",
       "      <td>COCCCOc1cc(C[C@@H](C[C@H](N)[C@@H](O)C[C@@H](C...</td>\n",
       "      <td>IC50</td>\n",
       "      <td>10.0</td>\n",
       "      <td>nM</td>\n",
       "      <td>B</td>\n",
       "      <td>Homo sapiens</td>\n",
       "      <td>Homo sapiens</td>\n",
       "    </tr>\n",
       "    <tr>\n",
       "      <th>14</th>\n",
       "      <td>CHEMBL536982</td>\n",
       "      <td>COCCCOc1cc(C[C@@H](C[C@H](N)[C@@H](O)C[C@@H](C...</td>\n",
       "      <td>IC50</td>\n",
       "      <td>2.0</td>\n",
       "      <td>nM</td>\n",
       "      <td>B</td>\n",
       "      <td>Homo sapiens</td>\n",
       "      <td>Homo sapiens</td>\n",
       "    </tr>\n",
       "    <tr>\n",
       "      <th>15</th>\n",
       "      <td>CHEMBL536748</td>\n",
       "      <td>COCCCOc1cc(C[C@@H](C[C@H](N)[C@@H](O)C[C@@H](C...</td>\n",
       "      <td>IC50</td>\n",
       "      <td>2.0</td>\n",
       "      <td>nM</td>\n",
       "      <td>B</td>\n",
       "      <td>Homo sapiens</td>\n",
       "      <td>Homo sapiens</td>\n",
       "    </tr>\n",
       "    <tr>\n",
       "      <th>...</th>\n",
       "      <td>...</td>\n",
       "      <td>...</td>\n",
       "      <td>...</td>\n",
       "      <td>...</td>\n",
       "      <td>...</td>\n",
       "      <td>...</td>\n",
       "      <td>...</td>\n",
       "      <td>...</td>\n",
       "    </tr>\n",
       "    <tr>\n",
       "      <th>5083</th>\n",
       "      <td>CHEMBL4207863</td>\n",
       "      <td>CCc1cccc(-c2c(F)cccc2C(O)(CCCNC(=O)OC)[C@@H]2C...</td>\n",
       "      <td>IC50</td>\n",
       "      <td>320.0</td>\n",
       "      <td>nM</td>\n",
       "      <td>B</td>\n",
       "      <td>Homo sapiens</td>\n",
       "      <td>Homo sapiens</td>\n",
       "    </tr>\n",
       "    <tr>\n",
       "      <th>5084</th>\n",
       "      <td>CHEMBL4214937</td>\n",
       "      <td>CCc1cccc(-c2c(Cl)cccc2C(O)(CCCNC(=O)OC)[C@@H]2...</td>\n",
       "      <td>IC50</td>\n",
       "      <td>8.4</td>\n",
       "      <td>nM</td>\n",
       "      <td>B</td>\n",
       "      <td>Homo sapiens</td>\n",
       "      <td>Homo sapiens</td>\n",
       "    </tr>\n",
       "    <tr>\n",
       "      <th>5085</th>\n",
       "      <td>CHEMBL4217427</td>\n",
       "      <td>CCc1cccc(-c2c(F)cccc2C(O)(CCCNC(=O)OC)[C@@H]2C...</td>\n",
       "      <td>IC50</td>\n",
       "      <td>6.3</td>\n",
       "      <td>nM</td>\n",
       "      <td>B</td>\n",
       "      <td>Homo sapiens</td>\n",
       "      <td>Homo sapiens</td>\n",
       "    </tr>\n",
       "    <tr>\n",
       "      <th>5086</th>\n",
       "      <td>CHEMBL4210026</td>\n",
       "      <td>CCc1cccc(-c2c(Cl)cccc2C(O)(CCCNC(=O)OC)[C@@H]2...</td>\n",
       "      <td>IC50</td>\n",
       "      <td>1.8</td>\n",
       "      <td>nM</td>\n",
       "      <td>B</td>\n",
       "      <td>Homo sapiens</td>\n",
       "      <td>Homo sapiens</td>\n",
       "    </tr>\n",
       "    <tr>\n",
       "      <th>5087</th>\n",
       "      <td>CHEMBL4212859</td>\n",
       "      <td>CCc1cccc(-c2c(F)cccc2C(O)(CCCNC(=O)OC)[C@@H]2C...</td>\n",
       "      <td>IC50</td>\n",
       "      <td>29.0</td>\n",
       "      <td>nM</td>\n",
       "      <td>B</td>\n",
       "      <td>Homo sapiens</td>\n",
       "      <td>Homo sapiens</td>\n",
       "    </tr>\n",
       "  </tbody>\n",
       "</table>\n",
       "<p>2296 rows × 8 columns</p>\n",
       "</div>"
      ],
      "text/plain": [
       "     molecule_chembl_id                                             Smiles  \\\n",
       "3           CHEMBL50412  CC(C)C[C@H](NC(=O)[C@H](Cc1ccccc1)NC(=O)OC(C)(...   \n",
       "9          CHEMBL537666  COCCCOc1cc(C[C@@H](C[C@H](N)[C@@H](O)C[C@@H](C...   \n",
       "13         CHEMBL538092  COCCCOc1cc(C[C@@H](C[C@H](N)[C@@H](O)C[C@@H](C...   \n",
       "14         CHEMBL536982  COCCCOc1cc(C[C@@H](C[C@H](N)[C@@H](O)C[C@@H](C...   \n",
       "15         CHEMBL536748  COCCCOc1cc(C[C@@H](C[C@H](N)[C@@H](O)C[C@@H](C...   \n",
       "...                 ...                                                ...   \n",
       "5083      CHEMBL4207863  CCc1cccc(-c2c(F)cccc2C(O)(CCCNC(=O)OC)[C@@H]2C...   \n",
       "5084      CHEMBL4214937  CCc1cccc(-c2c(Cl)cccc2C(O)(CCCNC(=O)OC)[C@@H]2...   \n",
       "5085      CHEMBL4217427  CCc1cccc(-c2c(F)cccc2C(O)(CCCNC(=O)OC)[C@@H]2C...   \n",
       "5086      CHEMBL4210026  CCc1cccc(-c2c(Cl)cccc2C(O)(CCCNC(=O)OC)[C@@H]2...   \n",
       "5087      CHEMBL4212859  CCc1cccc(-c2c(F)cccc2C(O)(CCCNC(=O)OC)[C@@H]2C...   \n",
       "\n",
       "     standard_type  standard_value standard_units assay_type assay_organism  \\\n",
       "3             IC50            77.0             nM          B   Homo sapiens   \n",
       "9             IC50             7.0             nM          B   Homo sapiens   \n",
       "13            IC50            10.0             nM          B   Homo sapiens   \n",
       "14            IC50             2.0             nM          B   Homo sapiens   \n",
       "15            IC50             2.0             nM          B   Homo sapiens   \n",
       "...            ...             ...            ...        ...            ...   \n",
       "5083          IC50           320.0             nM          B   Homo sapiens   \n",
       "5084          IC50             8.4             nM          B   Homo sapiens   \n",
       "5085          IC50             6.3             nM          B   Homo sapiens   \n",
       "5086          IC50             1.8             nM          B   Homo sapiens   \n",
       "5087          IC50            29.0             nM          B   Homo sapiens   \n",
       "\n",
       "     target_organism  \n",
       "3       Homo sapiens  \n",
       "9       Homo sapiens  \n",
       "13      Homo sapiens  \n",
       "14      Homo sapiens  \n",
       "15      Homo sapiens  \n",
       "...              ...  \n",
       "5083    Homo sapiens  \n",
       "5084    Homo sapiens  \n",
       "5085    Homo sapiens  \n",
       "5086    Homo sapiens  \n",
       "5087    Homo sapiens  \n",
       "\n",
       "[2296 rows x 8 columns]"
      ]
     },
     "execution_count": 21,
     "metadata": {},
     "output_type": "execute_result"
    }
   ],
   "source": [
    "data_last"
   ]
  },
  {
   "cell_type": "code",
   "execution_count": 22,
   "metadata": {
    "id": "iKUoJSoZ31ju"
   },
   "outputs": [],
   "source": [
    "data_last.to_csv('Data.csv', index=False)"
   ]
  },
  {
   "cell_type": "code",
   "execution_count": null,
   "metadata": {},
   "outputs": [],
   "source": []
  },
  {
   "cell_type": "code",
   "execution_count": null,
   "metadata": {},
   "outputs": [],
   "source": []
  },
  {
   "cell_type": "code",
   "execution_count": null,
   "metadata": {},
   "outputs": [],
   "source": []
  },
  {
   "cell_type": "code",
   "execution_count": null,
   "metadata": {},
   "outputs": [],
   "source": []
  },
  {
   "cell_type": "code",
   "execution_count": null,
   "metadata": {},
   "outputs": [],
   "source": []
  },
  {
   "cell_type": "code",
   "execution_count": null,
   "metadata": {},
   "outputs": [],
   "source": []
  },
  {
   "cell_type": "code",
   "execution_count": null,
   "metadata": {},
   "outputs": [],
   "source": []
  },
  {
   "cell_type": "code",
   "execution_count": null,
   "metadata": {},
   "outputs": [],
   "source": []
  },
  {
   "cell_type": "code",
   "execution_count": null,
   "metadata": {},
   "outputs": [],
   "source": []
  },
  {
   "cell_type": "code",
   "execution_count": null,
   "metadata": {},
   "outputs": [],
   "source": []
  },
  {
   "cell_type": "code",
   "execution_count": null,
   "metadata": {},
   "outputs": [],
   "source": []
  },
  {
   "cell_type": "code",
   "execution_count": null,
   "metadata": {},
   "outputs": [],
   "source": []
  }
 ],
 "metadata": {
  "colab": {
   "collapsed_sections": [],
   "name": "CAAD-2.ipynb",
   "provenance": []
  },
  "kernelspec": {
   "display_name": "Python 3",
   "language": "python",
   "name": "python3"
  },
  "language_info": {
   "codemirror_mode": {
    "name": "ipython",
    "version": 3
   },
   "file_extension": ".py",
   "mimetype": "text/x-python",
   "name": "python",
   "nbconvert_exporter": "python",
   "pygments_lexer": "ipython3",
   "version": "3.8.5"
  }
 },
 "nbformat": 4,
 "nbformat_minor": 1
}
